{
  "nbformat_minor": 0,
  "cells": [
    {
      "source": [
        "# HW 2: read gzipped json(s) to a dataframe"
      ],
      "cell_type": "markdown",
      "metadata": {
        "editable": true,
        "deletable": true,
        "id": "eCGpyxPAIlmC"
      }
    },
    {
      "execution_count": null,
      "cell_type": "code",
      "source": [
        "%autosave 1\n",
        "!pip install pyspark\n",
        "!pip install cytoolz"
      ],
      "outputs": [],
      "metadata": {
        "editable": true,
        "cell_status": {
          "execute_time": {
            "duration": 19461.462890625,
            "end_time": 1672244221703.242
          }
        },
        "deletable": true,
        "id": "wNWGG_arGLJZ"
      }
    },
    {
      "execution_count": 2,
      "cell_type": "code",
      "source": [
        "from pyspark.sql import SparkSession\n",
        "import pyspark.sql.functions as f\n",
        "from pyspark.sql.types import *\n",
        "import typing as T\n",
        "import cytoolz.curried as tz\n",
        "from pyspark.sql.functions import col\n",
        "from pyspark.sql import functions as F\n",
        "from pyspark.ml import Pipeline\n",
        "import pyspark\n",
        "import os"
      ],
      "outputs": [],
      "metadata": {
        "editable": true,
        "cell_status": {
          "execute_time": {
            "duration": 1262.881103515625,
            "end_time": 1672244312157.417
          }
        },
        "deletable": true,
        "id": "GUtSK9tbIh0d"
      }
    },
    {
      "execution_count": 3,
      "cell_type": "code",
      "source": [
        "your_unique_name=\"345123624_931202543_hw2\" # Use this string to look for your app in the Spark UI\n",
        "if your_unique_name==\"noam_hw2\":\n",
        "    raise Exception(\"Please use your own name\")"
      ],
      "outputs": [],
      "metadata": {
        "editable": true,
        "cell_status": {
          "execute_time": {
            "duration": 45.576904296875,
            "end_time": 1672244332345.85
          }
        },
        "deletable": true,
        "id": "phxkIzgNIp5x"
      }
    },
    {
      "execution_count": 4,
      "cell_type": "code",
      "source": [
        "spark = SparkSession.builder.appName(your_unique_name).getOrCreate()"
      ],
      "outputs": [],
      "metadata": {
        "editable": true,
        "cell_status": {
          "execute_time": {
            "duration": 1260.098876953125,
            "end_time": 1672244334632.573
          }
        },
        "deletable": true,
        "id": "m7na9SwGI5YR"
      }
    },
    {
      "execution_count": 5,
      "cell_type": "code",
      "source": [
        "fname_test_data = \"bids_20K_no_bidfloor.json\" \n",
        "fname = \"2_2.gz\"\n",
        "fname_ref = \"bids_12.json\""
      ],
      "outputs": [],
      "metadata": {
        "editable": true,
        "cell_status": {
          "execute_time": {
            "duration": 39.820068359375,
            "end_time": 1672244334684.076
          }
        },
        "deletable": true,
        "id": "6Zry6Hz8I8Sg"
      }
    },
    {
      "execution_count": 7,
      "cell_type": "code",
      "source": [
        "inferred = spark.read.json(\"wasbs://nc001@dacoursedatastorage.blob.core.windows.net/\"+fname_ref)\n",
        "bids = spark.read.schema(inferred.schema).json(\"wasbs://nc001@dacoursedatastorage.blob.core.windows.net/requestLog_C_919552.log.tar_*.json.gz\")"
      ],
      "outputs": [],
      "metadata": {
        "cell_status": {
          "execute_time": {
            "duration": 744.196044921875,
            "end_time": 1672245621638.598
          }
        },
        "editable": true,
        "deletable": true,
        "id": "gYgB1mdXLVop"
      }
    },
    {
      "execution_count": 8,
      "cell_type": "code",
      "source": [
        "bids.printSchema()"
      ],
      "outputs": [
        {
          "output_type": "stream",
          "name": "stdout",
          "text": [
            "root\n",
            " |-- app: struct (nullable = true)\n",
            " |    |-- bundle: string (nullable = true)\n",
            " |    |-- cat: array (nullable = true)\n",
            " |    |    |-- element: string (containsNull = true)\n",
            " |    |-- domain: string (nullable = true)\n",
            " |    |-- ext: struct (nullable = true)\n",
            " |    |    |-- orientation_lock: string (nullable = true)\n",
            " |    |-- id: string (nullable = true)\n",
            " |    |-- name: string (nullable = true)\n",
            " |    |-- pagecat: array (nullable = true)\n",
            " |    |    |-- element: string (containsNull = true)\n",
            " |    |-- publisher: struct (nullable = true)\n",
            " |    |    |-- id: string (nullable = true)\n",
            " |    |    |-- name: string (nullable = true)\n",
            " |    |-- storeurl: string (nullable = true)\n",
            " |    |-- ver: string (nullable = true)\n",
            " |-- bidCurrency: array (nullable = true)\n",
            " |    |-- element: string (containsNull = true)\n",
            " |-- device: struct (nullable = true)\n",
            " |    |-- carrier: string (nullable = true)\n",
            " |    |-- connectiontype: long (nullable = true)\n",
            " |    |-- devicetype: long (nullable = true)\n",
            " |    |-- dnt: long (nullable = true)\n",
            " |    |-- dpidmd5: string (nullable = true)\n",
            " |    |-- dpidsha1: string (nullable = true)\n",
            " |    |-- ext: struct (nullable = true)\n",
            " |    |    |-- atts: long (nullable = true)\n",
            " |    |    |-- is_app: long (nullable = true)\n",
            " |    |-- geo: struct (nullable = true)\n",
            " |    |    |-- city: string (nullable = true)\n",
            " |    |    |-- country: string (nullable = true)\n",
            " |    |    |-- lat: double (nullable = true)\n",
            " |    |    |-- lon: double (nullable = true)\n",
            " |    |    |-- region: string (nullable = true)\n",
            " |    |    |-- type: long (nullable = true)\n",
            " |    |    |-- zip: string (nullable = true)\n",
            " |    |-- h: long (nullable = true)\n",
            " |    |-- hwv: string (nullable = true)\n",
            " |    |-- ifa: string (nullable = true)\n",
            " |    |-- ip: string (nullable = true)\n",
            " |    |-- js: long (nullable = true)\n",
            " |    |-- language: string (nullable = true)\n",
            " |    |-- lmt: long (nullable = true)\n",
            " |    |-- make: string (nullable = true)\n",
            " |    |-- model: string (nullable = true)\n",
            " |    |-- os: string (nullable = true)\n",
            " |    |-- osv: string (nullable = true)\n",
            " |    |-- ppi: long (nullable = true)\n",
            " |    |-- pxratio: long (nullable = true)\n",
            " |    |-- ua: string (nullable = true)\n",
            " |    |-- w: long (nullable = true)\n",
            " |-- exchange: string (nullable = true)\n",
            " |-- ext: struct (nullable = true)\n",
            " |    |-- partnerid: long (nullable = true)\n",
            " |-- id: string (nullable = true)\n",
            " |-- imp: array (nullable = true)\n",
            " |    |-- element: struct (containsNull = true)\n",
            " |    |    |-- banner: struct (nullable = true)\n",
            " |    |    |    |-- api: array (nullable = true)\n",
            " |    |    |    |    |-- element: long (containsNull = true)\n",
            " |    |    |    |-- battr: array (nullable = true)\n",
            " |    |    |    |    |-- element: long (containsNull = true)\n",
            " |    |    |    |-- btype: array (nullable = true)\n",
            " |    |    |    |    |-- element: long (containsNull = true)\n",
            " |    |    |    |-- h: long (nullable = true)\n",
            " |    |    |    |-- mimes: array (nullable = true)\n",
            " |    |    |    |    |-- element: string (containsNull = true)\n",
            " |    |    |    |-- pos: long (nullable = true)\n",
            " |    |    |    |-- topframe: long (nullable = true)\n",
            " |    |    |    |-- w: long (nullable = true)\n",
            " |    |    |-- bidfloor: double (nullable = true)\n",
            " |    |    |-- bidfloorcur: string (nullable = true)\n",
            " |    |    |-- displaymanager: string (nullable = true)\n",
            " |    |    |-- displaymanagerver: string (nullable = true)\n",
            " |    |    |-- ext: struct (nullable = true)\n",
            " |    |    |    |-- skadn: struct (nullable = true)\n",
            " |    |    |    |    |-- skadnetids: array (nullable = true)\n",
            " |    |    |    |    |    |-- element: string (containsNull = true)\n",
            " |    |    |    |    |-- sourceapp: string (nullable = true)\n",
            " |    |    |    |    |-- version: string (nullable = true)\n",
            " |    |    |    |    |-- versions: array (nullable = true)\n",
            " |    |    |    |    |    |-- element: string (containsNull = true)\n",
            " |    |    |    |-- to: long (nullable = true)\n",
            " |    |    |    |-- viewabilityvendors: array (nullable = true)\n",
            " |    |    |    |    |-- element: string (containsNull = true)\n",
            " |    |    |    |-- wopv: string (nullable = true)\n",
            " |    |    |-- formats: array (nullable = true)\n",
            " |    |    |    |-- element: string (containsNull = true)\n",
            " |    |    |-- id: string (nullable = true)\n",
            " |    |    |-- instl: long (nullable = true)\n",
            " |    |    |-- position: long (nullable = true)\n",
            " |    |    |-- secure: long (nullable = true)\n",
            " |    |    |-- tagid: string (nullable = true)\n",
            " |-- ipAddress: string (nullable = true)\n",
            " |-- isTest: boolean (nullable = true)\n",
            " |-- language: string (nullable = true)\n",
            " |-- location: struct (nullable = true)\n",
            " |    |-- cityName: string (nullable = true)\n",
            " |    |-- countryCode: string (nullable = true)\n",
            " |    |-- dma: long (nullable = true)\n",
            " |    |-- metro: long (nullable = true)\n",
            " |    |-- postalCode: string (nullable = true)\n",
            " |    |-- regionCode: string (nullable = true)\n",
            " |    |-- timezoneOffsetMinutes: long (nullable = true)\n",
            " |-- originalId: string (nullable = true)\n",
            " |-- restrictions: struct (nullable = true)\n",
            " |    |-- badv: array (nullable = true)\n",
            " |    |    |-- element: string (containsNull = true)\n",
            " |    |-- bcat: array (nullable = true)\n",
            " |    |    |-- element: string (containsNull = true)\n",
            " |-- segments: struct (nullable = true)\n",
            " |    |-- api-banner: array (nullable = true)\n",
            " |    |    |-- element: string (containsNull = true)\n",
            " |    |-- iab-categories: array (nullable = true)\n",
            " |    |    |-- element: string (containsNull = true)\n",
            " |    |-- openrtb-wseat: array (nullable = true)\n",
            " |    |    |-- element: string (containsNull = true)\n",
            " |    |-- page-iab-categories: array (nullable = true)\n",
            " |    |    |-- element: string (containsNull = true)\n",
            " |-- site: struct (nullable = true)\n",
            " |    |-- content: struct (nullable = true)\n",
            " |    |    |-- language: string (nullable = true)\n",
            " |    |-- domain: string (nullable = true)\n",
            " |    |-- id: string (nullable = true)\n",
            " |    |-- page: string (nullable = true)\n",
            " |    |-- publisher: struct (nullable = true)\n",
            " |    |    |-- id: string (nullable = true)\n",
            " |    |    |-- name: string (nullable = true)\n",
            " |-- spots: array (nullable = true)\n",
            " |    |-- element: struct (containsNull = true)\n",
            " |    |    |-- banner: struct (nullable = true)\n",
            " |    |    |    |-- api: array (nullable = true)\n",
            " |    |    |    |    |-- element: long (containsNull = true)\n",
            " |    |    |    |-- battr: array (nullable = true)\n",
            " |    |    |    |    |-- element: long (containsNull = true)\n",
            " |    |    |    |-- btype: array (nullable = true)\n",
            " |    |    |    |    |-- element: long (containsNull = true)\n",
            " |    |    |    |-- h: long (nullable = true)\n",
            " |    |    |    |-- mimes: array (nullable = true)\n",
            " |    |    |    |    |-- element: string (containsNull = true)\n",
            " |    |    |    |-- pos: long (nullable = true)\n",
            " |    |    |    |-- topframe: long (nullable = true)\n",
            " |    |    |    |-- w: long (nullable = true)\n",
            " |    |    |-- bidfloor: double (nullable = true)\n",
            " |    |    |-- bidfloorcur: string (nullable = true)\n",
            " |    |    |-- displaymanager: string (nullable = true)\n",
            " |    |    |-- displaymanagerver: string (nullable = true)\n",
            " |    |    |-- ext: struct (nullable = true)\n",
            " |    |    |    |-- skadn: struct (nullable = true)\n",
            " |    |    |    |    |-- skadnetids: array (nullable = true)\n",
            " |    |    |    |    |    |-- element: string (containsNull = true)\n",
            " |    |    |    |    |-- sourceapp: string (nullable = true)\n",
            " |    |    |    |    |-- version: string (nullable = true)\n",
            " |    |    |    |    |-- versions: array (nullable = true)\n",
            " |    |    |    |    |    |-- element: string (containsNull = true)\n",
            " |    |    |    |-- to: long (nullable = true)\n",
            " |    |    |    |-- viewabilityvendors: array (nullable = true)\n",
            " |    |    |    |    |-- element: string (containsNull = true)\n",
            " |    |    |    |-- wopv: string (nullable = true)\n",
            " |    |    |-- formats: array (nullable = true)\n",
            " |    |    |    |-- element: string (containsNull = true)\n",
            " |    |    |-- id: string (nullable = true)\n",
            " |    |    |-- instl: long (nullable = true)\n",
            " |    |    |-- position: long (nullable = true)\n",
            " |    |    |-- secure: long (nullable = true)\n",
            " |    |    |-- tagid: string (nullable = true)\n",
            " |-- timestamp: string (nullable = true)\n",
            " |-- unparseable: struct (nullable = true)\n",
            " |    |-- bapp: array (nullable = true)\n",
            " |    |    |-- element: string (containsNull = true)\n",
            " |    |-- bseat: array (nullable = true)\n",
            " |    |    |-- element: string (containsNull = true)\n",
            " |    |-- device: struct (nullable = true)\n",
            " |    |    |-- geo: struct (nullable = true)\n",
            " |    |    |    |-- accuracy: long (nullable = true)\n",
            " |    |-- imp: array (nullable = true)\n",
            " |    |    |-- element: struct (containsNull = true)\n",
            " |    |    |    |-- banner: struct (nullable = true)\n",
            " |    |    |    |    |-- format: array (nullable = true)\n",
            " |    |    |    |    |    |-- element: struct (containsNull = true)\n",
            " |    |    |    |    |    |    |-- h: long (nullable = true)\n",
            " |    |    |    |    |    |    |-- w: long (nullable = true)\n",
            " |    |    |    |-- exp: long (nullable = true)\n",
            " |    |    |    |-- metric: array (nullable = true)\n",
            " |    |    |    |    |-- element: struct (containsNull = true)\n",
            " |    |    |    |    |    |-- type: string (nullable = true)\n",
            " |    |    |    |    |    |-- value: double (nullable = true)\n",
            " |    |    |    |    |    |-- vendor: string (nullable = true)\n",
            " |    |-- site: struct (nullable = true)\n",
            " |    |    |-- bundle: string (nullable = true)\n",
            " |    |-- source: struct (nullable = true)\n",
            " |    |    |-- ext: struct (nullable = true)\n",
            " |    |    |    |-- omidpn: string (nullable = true)\n",
            " |    |    |    |-- omidpv: string (nullable = true)\n",
            " |    |    |    |-- schain: struct (nullable = true)\n",
            " |    |    |    |    |-- complete: long (nullable = true)\n",
            " |    |    |    |    |-- nodes: array (nullable = true)\n",
            " |    |    |    |    |    |-- element: struct (containsNull = true)\n",
            " |    |    |    |    |    |    |-- asi: string (nullable = true)\n",
            " |    |    |    |    |    |    |-- hp: long (nullable = true)\n",
            " |    |    |    |    |    |    |-- sid: string (nullable = true)\n",
            " |    |    |    |    |-- ver: string (nullable = true)\n",
            " |    |    |-- fd: long (nullable = true)\n",
            " |    |    |-- pchain: string (nullable = true)\n",
            " |    |    |-- tid: string (nullable = true)\n",
            " |-- url: string (nullable = true)\n",
            " |-- user: struct (nullable = true)\n",
            " |    |-- ext: struct (nullable = true)\n",
            " |    |    |-- consent: string (nullable = true)\n",
            " |    |    |-- gdpr: long (nullable = true)\n",
            " |    |-- id: string (nullable = true)\n",
            " |-- userAgent: string (nullable = true)\n",
            " |-- userIds: struct (nullable = true)\n",
            " |    |-- prov: string (nullable = true)\n",
            " |    |-- xchg: string (nullable = true)\n",
            "\n"
          ]
        }
      ],
      "metadata": {
        "cell_status": {
          "execute_time": {
            "duration": 244.822998046875,
            "end_time": 1672244390369.189
          }
        },
        "editable": true,
        "deletable": true,
        "colab": {
          "base_uri": "https://localhost:8080/"
        },
        "id": "fY3sA9h1LVor",
        "outputId": "bbe8533a-d7db-49a0-de06-60a25cea5bcf"
      }
    },
    {
      "execution_count": null,
      "cell_type": "code",
      "source": [
        "#bids.select(F.col(\"spots.ext.to\").alias('ttt')).dropna().count()"
      ],
      "outputs": [],
      "metadata": {
        "cell_status": {
          "execute_time": {
            "duration": 15311.699951171875,
            "end_time": 1672246211091.979
          }
        },
        "editable": true,
        "deletable": true,
        "id": "g0e_-hk1LVos"
      }
    },
    {
      "source": [
        "# Question 1 - Preprocessing"
      ],
      "cell_type": "markdown",
      "metadata": {
        "editable": true,
        "deletable": true,
        "id": "qu7fZJWEJnFU"
      }
    },
    {
      "execution_count": 119,
      "cell_type": "code",
      "source": [
        "from pyspark.ml.feature import StringIndexer, OneHotEncoder\n",
        "from pyspark.sql.functions import to_timestamp\n",
        "\n",
        "def pre_process(data, indexer=False, a=True):\n",
        "    \n",
        "    if indexer == False:\n",
        "        data = data.select(data[\"device.geo.lat\"].alias(\"latitude\"),\n",
        "                           data[\"location.countrycode\"].alias(\"country\"),\n",
        "                           #data[\"spots.secure\"].alias(\"secure\"),\n",
        "                           data[\"device.geo.lon\"].alias(\"longitude\"),\n",
        "                           #data[\"location.metro\"].alias(\"metro\"),\n",
        "                           data[\"device.connectionType\"].alias(\"connectionType\"),\n",
        "                           data[\"device.devicetype\"].alias(\"deviceType\"),\n",
        "                           data[\"timestamp\"].alias('timestamp'),\n",
        "                           data[\"imp.position\"].alias('imp_pos'),\n",
        "                           data[\"imp.bidfloor\"].alias('bidfloor'),\n",
        "                           #data[\"imp.instl\"].alias(\"instl\"),\n",
        "                           data[\"language\"],\n",
        "                           data[\"device.dnt\"].alias(\"dnt\"),\n",
        "                           #data[\"unparseable.imp.exp\"].alias(\"exp\"),\n",
        "                           #data[\"site.id\"].alias(\"siteId\")\n",
        "                           )\n",
        "        \n",
        "\n",
        "        data = data.select(F.col('bidfloor')[0].alias('bidfloor'),\n",
        "                           #F.col(\"instl\")[0].alias('instl'),\n",
        "                           #F.col(\"exp\")[0].alias('exp'),\n",
        "                           F.col('imp_pos')[0].alias('imp_pos'),\n",
        "                           #F.col(\"secure\")[0].alias('secure'),\n",
        "                                #'metro',\n",
        "                                'latitude',\n",
        "                                'longitude',\n",
        "                                'connectionType',\n",
        "                                'devicetype',\n",
        "                                'timestamp',\n",
        "                                'country',\n",
        "                                'language',\n",
        "                                'dnt',\n",
        "                                #'siteId'\n",
        "                          ).select('*')\n",
        "\n",
        "    #data = data.na.fill(value=0, subset=['instl', 'secure', 'exp'])\n",
        "    data = data.na.drop()\n",
        "    data = data.withColumn(\"datetype_timestamp\",to_timestamp(col(\"timestamp\")))\n",
        "    data = data.withColumn(\"epoch_seconds\", data.datetype_timestamp.cast(\"long\")) \n",
        "    data=data.drop('timestamp')\n",
        "    data =data.drop('datetype_timestamp')\n",
        "    \n",
        "    indexer_country = StringIndexer(inputCol='country', outputCol='country_id').fit(data)\n",
        "    indexed_df1 = indexer_country.transform(data)\n",
        "    data = indexed_df1.drop('country')\n",
        "    \n",
        "    indexer_language = StringIndexer(inputCol='language', outputCol='language_id').fit(data)\n",
        "    indexed_df2 = indexer_language.transform(data)\n",
        "    data = indexed_df2.drop('language')\n",
        "\n",
        "    #indexer_siteId = StringIndexer(inputCol='siteId', outputCol='sID').fit(data)\n",
        "    #indexed_df4 = indexer_siteId.transform(data)\n",
        "    #data = indexed_df4.drop('siteId')\n",
        "        \n",
        "    return data"
      ],
      "outputs": [],
      "metadata": {
        "editable": true,
        "cell_status": {
          "execute_time": {
            "duration": 93604.31713867188,
            "end_time": 1672246518051.35
          }
        },
        "deletable": true,
        "id": "LJdU-ooRJuq8"
      }
    },
    {
      "execution_count": 120,
      "cell_type": "code",
      "source": [
        "dataset = pre_process(bids)\n",
        "dataset.show()"
      ],
      "outputs": [
        {
          "output_type": "stream",
          "name": "stdout",
          "text": [
            "+--------------------+-------+------------------+-------------------+--------------+----------+---+-------------+----------+-----------+\n",
            "|            bidfloor|imp_pos|          latitude|          longitude|connectionType|devicetype|dnt|epoch_seconds|country_id|language_id|\n",
            "+--------------------+-------+------------------+-------------------+--------------+----------+---+-------------+----------+-----------+\n",
            "|               0.564|      0|             24.78|            -107.52|             2|         4|  0|   1644889605|       4.0|        2.0|\n",
            "|                1.08|      0|           26.4336|            50.1116|             6|         4|  0|   1644889605|       3.0|        0.0|\n",
            "|             1.13782|      1|            35.698|            51.4115|             3|         4|  0|   1644889605|       7.0|        0.0|\n",
            "|  0.8709614159999999|      0|40.037879943847656| -76.30551147460938|             2|         4|  0|   1644889605|       0.0|        0.0|\n",
            "|               2.066|      1|              25.0|               45.0|             6|         4|  0|   1644889605|       3.0|        3.0|\n",
            "|0.041666666666666664|      0|          -8.06209|           -34.8788|             2|         1|  0|   1644889605|       1.0|        1.0|\n",
            "|            1.352055|      0|           25.2582|            55.3047|             2|         4|  0|   1644889605|       2.0|        0.0|\n",
            "| 0.30525641025641026|      0|          -10.9281|           -37.0556|             2|         1|  0|   1644889605|       1.0|        1.0|\n",
            "|            0.578571|      0|           25.2867|            51.5333|             6|         4|  0|   1644889605|       5.0|        0.0|\n",
            "| 0.04576923076923077|      0|            -23.51|             -46.36|             2|         1|  0|   1644889605|       1.0|        1.0|\n",
            "|                 0.6|      1|           25.2633|            55.3087|             2|         4|  0|   1644889605|       2.0|        3.0|\n",
            "|            0.332877|      0|           26.2886|             50.114|             3|         4|  0|   1644889605|       3.0|        0.0|\n",
            "|             0.77692|      1|26.505260467529297|   45.3443717956543|             6|         4|  0|   1644889605|       3.0|        3.0|\n",
            "|  1.8454920000000001|      0|21.883329391479492|-102.30000305175781|             2|         4|  0|   1644889605|       4.0|        2.0|\n",
            "|  1.3100505599999999|      0|29.323219299316406| -100.9521713256836|             2|         4|  0|   1644889605|       4.0|        2.0|\n",
            "|              3.0322|      0|            35.727|            51.3336|             2|         4|  0|   1644889605|       7.0|        0.0|\n",
            "|               0.945|      0|           25.2925|            51.5321|             6|         4|  0|   1644889605|       5.0|        0.0|\n",
            "|             1.96639|      0|           24.4638|             54.363|             2|         4|  0|   1644889605|       2.0|        0.0|\n",
            "|         0.678666666|      0|           41.0662|           -86.2385|             2|         4|  0|   1644889605|       0.0|        0.0|\n",
            "|                3.24|      0|           25.2867|            51.5333|             6|         4|  0|   1644889605|       5.0|        0.0|\n",
            "+--------------------+-------+------------------+-------------------+--------------+----------+---+-------------+----------+-----------+\n",
            "only showing top 20 rows\n",
            "\n"
          ]
        }
      ],
      "metadata": {
        "editable": true,
        "cell_status": {
          "execute_time": {
            "duration": 19332.576904296875,
            "end_time": 1672246555140.473
          }
        },
        "deletable": true,
        "id": "leH9j_FIM_FW",
        "colab": {
          "base_uri": "https://localhost:8080/"
        },
        "outputId": "5fbe86bf-d165-4509-e701-b9197669fb61"
      }
    },
    {
      "execution_count": 99,
      "cell_type": "code",
      "source": [
        "from pyspark.sql.types import StructType\n",
        "\n",
        "\n",
        "def schema_to_columns(schema: pyspark.sql.types.StructType) -> T.List[T.List[str]]:\n",
        "    \"\"\"\n",
        "    Produce a flat list of column specs from a possibly nested DataFrame schema\n",
        "    \"\"\"\n",
        "\n",
        "    columns = list()\n",
        "\n",
        "    def helper(schm: pyspark.sql.types.StructType, prefix: list = None):\n",
        "\n",
        "        if prefix is None:\n",
        "            prefix = list()\n",
        "\n",
        "        for item in schm.fields:\n",
        "            if isinstance(item.dataType, pyspark.sql.types.StructType):\n",
        "                helper(item.dataType, prefix + [item.name])\n",
        "            else:\n",
        "                columns.append(prefix + [item.name])\n",
        "\n",
        "    helper(schema)\n",
        "\n",
        "    return columns\n"
      ],
      "outputs": [],
      "metadata": {
        "collapsed": true,
        "editable": true,
        "cell_status": {
          "execute_time": {
            "duration": 27.48291015625,
            "end_time": 1672246586186.494
          }
        },
        "deletable": true,
        "id": "X1kAUTG6PDDx"
      }
    },
    {
      "execution_count": 100,
      "cell_type": "code",
      "source": [
        "def flatten_frame(frame: pyspark.sql.DataFrame) -> pyspark.sql.DataFrame:\n",
        "\n",
        "    aliased_columns = list()\n",
        "\n",
        "    for col_spec in schema_to_columns(frame.schema):\n",
        "        c = tz.get_in(col_spec, frame)\n",
        "        if len(col_spec) == 1:\n",
        "            aliased_columns.append(c)\n",
        "        else:\n",
        "            aliased_columns.append(c.alias('_'.join(col_spec)))\n",
        "\n",
        "    return frame.select(aliased_columns)"
      ],
      "outputs": [],
      "metadata": {
        "collapsed": true,
        "editable": true,
        "cell_status": {
          "execute_time": {
            "duration": 234.216064453125,
            "end_time": 1672246586851.35
          }
        },
        "deletable": true,
        "id": "2kULqmyvPM1K"
      }
    },
    {
      "execution_count": 121,
      "cell_type": "code",
      "source": [
        "dataset = flatten_frame(dataset)\n",
        "dataset.count()"
      ],
      "outputs": [
        {
          "output_type": "execute_result",
          "data": {
            "text/plain": [
              "102948"
            ]
          },
          "metadata": {},
          "execution_count": 121
        }
      ],
      "metadata": {
        "outputId": "44d3e004-fdae-497a-fbf5-95206e6e2835",
        "cell_status": {
          "execute_time": {
            "duration": 19321.51708984375,
            "end_time": 1672246607152.86
          }
        },
        "deletable": true,
        "colab": {
          "base_uri": "https://localhost:8080/"
        },
        "collapsed": true,
        "editable": true,
        "id": "SrbfDT7JRPLJ"
      }
    },
    {
      "source": [
        "# Question 2 - PCA"
      ],
      "cell_type": "markdown",
      "metadata": {
        "editable": true,
        "deletable": true,
        "id": "f4m1QKLXSNf2"
      }
    },
    {
      "execution_count": 122,
      "cell_type": "code",
      "source": [
        "from pyspark.ml.feature import PCA\n",
        "from pyspark.ml.feature import VectorAssembler\n",
        "\n",
        "assembler = VectorAssembler(inputCols=dataset.columns, outputCol=\"features\")\n",
        "dataset2 = assembler.transform(dataset).select(\"features\")\n",
        "\n",
        "pca = PCA(k=2, inputCol=\"features\", outputCol=\"pca_features\")\n",
        "\n",
        "# Apply the PCA algorithm on the DataFrame with features\n",
        "model = pca.fit(dataset2)\n",
        "result = model.transform(dataset2)\n",
        "result.show()\n"
      ],
      "outputs": [
        {
          "output_type": "stream",
          "name": "stdout",
          "text": [
            "+--------------------+--------------------+\n",
            "|            features|        pca_features|\n",
            "+--------------------+--------------------+\n",
            "|[0.564,0.0,24.78,...|[-7154771.5587527...|\n",
            "|[1.08,0.0,26.4336...|[-7154928.6695530...|\n",
            "|[1.13782,1.0,35.6...|[-7154929.5300483...|\n",
            "|[0.87096141599999...|[-7154801.6307050...|\n",
            "|[2.066,1.0,25.0,4...|[-7154923.7023880...|\n",
            "|[0.04166666666666...|[-7154845.8659095...|\n",
            "|[1.352055,0.0,25....|[-7154933.8690348...|\n",
            "|[0.30525641025641...|[-7154843.8669996...|\n",
            "|[0.578571,0.0,25....|[-7154930.2186465...|\n",
            "|[0.04576923076923...|[-7154835.3345988...|\n",
            "|[0.6,1.0,25.2633,...|[-7154933.9088882...|\n",
            "|[0.332877,0.0,26....|[-7154928.6612396...|\n",
            "|[0.77692,1.0,26.5...|[-7154923.9485195...|\n",
            "|[1.84549200000000...|[-7154776.9463569...|\n",
            "|[1.31005055999999...|[-7154777.8438054...|\n",
            "|[3.0322,0.0,35.72...|[-7154929.4563177...|\n",
            "|[0.945,0.0,25.292...|[-7154930.2192577...|\n",
            "|[1.96639,0.0,24.4...|[-7154932.9806524...|\n",
            "|[0.678666666,0.0,...|[-7154791.6595282...|\n",
            "|[3.24,0.0,25.2867...|[-7154930.2342941...|\n",
            "+--------------------+--------------------+\n",
            "only showing top 20 rows\n",
            "\n"
          ]
        }
      ],
      "metadata": {
        "outputId": "6a67471f-9042-452b-b553-e92b0d2d75d2",
        "cell_status": {
          "execute_time": {
            "duration": 29.47314453125,
            "end_time": 1672246648616.872
          }
        },
        "deletable": true,
        "colab": {
          "base_uri": "https://localhost:8080/"
        },
        "editable": true,
        "id": "7OMV2ZliSR_N"
      }
    },
    {
      "execution_count": 93,
      "cell_type": "code",
      "source": [
        "import numpy as np\n",
        "import matplotlib.pyplot as plt"
      ],
      "outputs": [],
      "metadata": {
        "cell_status": {
          "execute_time": {
            "duration": 233.81884765625,
            "end_time": 1672246648875.795
          }
        },
        "editable": true,
        "collapsed": true,
        "deletable": true,
        "id": "59PxO0RaLVoz"
      }
    },
    {
      "execution_count": 123,
      "cell_type": "code",
      "source": [
        "result = result.select(\"pca_features\")\n",
        "cols = result.collect()\n",
        "cols = np.asarray([x[0] for x in cols])\n",
        "plt.scatter(cols[:, 0], cols[:, 1], color = 'b')\n",
        "\n",
        "plt.show()"
      ],
      "outputs": [
        {
          "output_type": "display_data",
          "data": {
            "text/plain": [
              "<Figure size 432x288 with 1 Axes>"
            ],
            "image/png": "[encoded data removed]"
          },
          "metadata": {
            "needs_background": "light"
          }
        }
      ],
      "metadata": {
        "cell_status": {
          "execute_time": {
            "duration": 21328.135009765625,
            "end_time": 1672246670218.222
          }
        },
        "editable": true,
        "deletable": true,
        "colab": {
          "base_uri": "https://localhost:8080/",
          "height": 289
        },
        "id": "khQ5vScqLVoz",
        "outputId": "5cd027e2-3dd1-4d24-ea70-60268a677d78"
      }
    },
    {
      "cell_type": "markdown",
      "source": [
        "For this question we get that somes features like 'w' or 'metro' aren't enough informative to get acceptable clusters for our data.\n",
        "\n",
        "Also we saw that features like 'ppi' and 'pxratio' contain too much null value to be informative.\n",
        "\n",
        "After many attemps we get that PCA method successfully cluster the data into 2 or 3 clusters (the amount on the left and the group of the right that can also be divided into two groups)."
      ],
      "metadata": {
        "id": "vPCNmdQenePb"
      }
    },
    {
      "cell_type": "markdown",
      "source": [
        "# Question 3 – Unsupervised Learning \n"
      ],
      "metadata": {
        "id": "NIea6Lplk89X"
      }
    },
    {
      "execution_count": 129,
      "cell_type": "code",
      "source": [
        "from pyspark.ml.clustering import KMeans\n",
        "from pyspark.ml.evaluation import ClusteringEvaluator\n",
        "from pyspark.ml.clustering import BisectingKMeans\n",
        "from pyspark.ml.clustering import GaussianMixture\n",
        "from pyspark.ml.clustering import PowerIterationClustering\n",
        "from pyspark.ml.feature import MinMaxScaler\n",
        "from pyspark.ml.clustering import LDA"
      ],
      "outputs": [],
      "metadata": {
        "cell_status": {
          "execute_time": {
            "duration": 55528.885009765625,
            "end_time": 1672246749415.169
          }
        },
        "editable": true,
        "deletable": true,
        "id": "J0Hsz5ImLVo0"
      }
    },
    {
      "execution_count": 130,
      "cell_type": "code",
      "source": [
        "KMeans_=KMeans(featuresCol='features', k=3) \n",
        "KMeans_Model=KMeans_.fit(dataset2)\n",
        "KMeans_Assignments=KMeans_Model.transform(dataset2)"
      ],
      "outputs": [],
      "metadata": {
        "cell_status": {
          "execute_time": {
            "duration": 37452.35693359375,
            "end_time": 1672246786905.456
          }
        },
        "editable": true,
        "collapsed": true,
        "deletable": true,
        "id": "3XRNs3WSLVo1"
      }
    },
    {
      "execution_count": 131,
      "cell_type": "code",
      "source": [
        "x_pca = np.array(result.rdd.map(lambda row: row.pca_features).collect())\n",
        "cluster_assignment = np.array(KMeans_Assignments.rdd.map(lambda row: row.prediction).collect()).reshape(-1,1)\n",
        "pca_data = np.hstack((x_pca,cluster_assignment))"
      ],
      "outputs": [],
      "metadata": {
        "cell_status": {
          "execute_time": {
            "duration": 31.8779296875,
            "end_time": 1672246786949.899
          }
        },
        "editable": true,
        "collapsed": true,
        "deletable": true,
        "id": "CkL0_1WELVo1"
      }
    },
    {
      "execution_count": 132,
      "cell_type": "code",
      "source": [
        "#np.set_printoptions(threshold=20)\n",
        "pca_data"
      ],
      "outputs": [
        {
          "output_type": "execute_result",
          "data": {
            "text/plain": [
              "array([[-7.15477156e+06,  4.62912199e+06,  2.00000000e+00],\n",
              "       [-7.15492867e+06,  4.62911079e+06,  1.00000000e+00],\n",
              "       [-7.15492953e+06,  4.62910158e+06,  1.00000000e+00],\n",
              "       ...,\n",
              "       [-7.15480415e+06,  4.62910455e+06,  2.00000000e+00],\n",
              "       [-7.15475625e+06,  4.62910998e+06,  2.00000000e+00],\n",
              "       [-7.15479509e+06,  4.62910918e+06,  2.00000000e+00]])"
            ]
          },
          "metadata": {},
          "execution_count": 132
        }
      ],
      "metadata": {
        "cell_status": {
          "execute_time": {
            "duration": 2259.344970703125,
            "end_time": 1672246789259.396
          }
        },
        "editable": true,
        "deletable": true,
        "colab": {
          "base_uri": "https://localhost:8080/"
        },
        "id": "6P6RappZLVo2",
        "outputId": "d88786a5-6e6c-42a9-ef21-9f9d4f31cd93"
      }
    },
    {
      "cell_type": "markdown",
      "source": [
        "# Question 4 – Results Exploration\n"
      ],
      "metadata": {
        "id": "xivIfyyklH1Y"
      }
    },
    {
      "execution_count": 133,
      "cell_type": "code",
      "source": [
        "a = plt.scatter(pca_data[:, 0], pca_data[:, 1], c=pca_data[:, 3])\n",
        "plt.xlabel('1st_principal')\n",
        "plt.ylabel('2nd_principal')\n",
        "legend1 = plt.legend(*a.legend_elements(),\n",
        "                    loc=\"upper right\", title=\"Cluster assignment\")\n",
        "plt.show()"
      ],
      "outputs": [
        {
          "output_type": "display_data",
          "data": {
            "text/plain": [
              "<Figure size 432x288 with 1 Axes>"
            ],
            "image/png": "[encoded data removed]"
          },
          "metadata": {
            "needs_background": "light"
          }
        }
      ],
      "metadata": {
        "cell_status": {
          "execute_time": {
            "duration": 39395.462890625,
            "end_time": 1672060144162.369
          }
        },
        "editable": true,
        "deletable": true,
        "colab": {
          "base_uri": "https://localhost:8080/",
          "height": 291
        },
        "id": "JV30ijpCLVo2",
        "outputId": "a1f1d2bb-4eb3-4e7c-a40a-f76d9cf63ddf"
      }
    },
    {
      "cell_type": "markdown",
      "source": [
        "Our results show that the K-Means algorithm successfully divided the data based on the separation observed in the PCA from question 2. This is because our chosen features included both categorical and continuous variables. To represent the categorical features, we applied one hot encoding, which resulted in many sparse vectors.\n",
        "\n",
        "In the PCA algorithm, the continuous features had a greater impact on the results because they can be easily compared to one another. On the other hand, the categorical features represent distinct groups and their values are not directly comparable. For example, it is not possible to directly compare two languages or models.\n",
        "\n",
        "Additionally, the categorical vectors transformed through one hot encoding had very little variance and likely had a lesser effect on the PCA algorithm compared to the continuous features, particularly the feature representing the ad area. This feature may indicate the size of the device used, and it is reasonable to assume that a larger ad area would correspond to a higher bidfloor value.\n",
        "\n",
        "Comparison between the two algorithms:\n",
        "\n",
        "We use PCA to reduce the dimensionality of the data and to create a graph for analyzing the different groups it contains. In contrast, the K-Means algorithm required us to specify the number of groups in advance that we wanted the data to be divided into.\n",
        "\n",
        "PCA created groups of the main components that capture the maximum variance of the data, while K-Means created a separation based on the similarity of the data. Both algorithms were used to divide our data and can be used to study and identify patterns within the data."
      ],
      "metadata": {
        "id": "2ae-LtVYu7X7"
      }
    }
  ],
  "nbformat": 4,
  "metadata": {
    "kernelspec": {
      "display_name": "PySpark3",
      "name": "pyspark3kernel",
      "language": ""
    },
    "language_info": {
      "mimetype": "text/x-python",
      "pygments_lexer": "python3",
      "name": "pyspark3",
      "codemirror_mode": {
        "version": 3,
        "name": "python"
      }
    },
    "colab": {
      "provenance": []
    },
    "gpuClass": "standard"
  }
}