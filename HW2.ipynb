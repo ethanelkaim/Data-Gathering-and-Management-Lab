{
  "nbformat_minor": 5,
  "cells": [
    {
      "source": [
        "# HW 2: read gzipped json(s) to a dataframe"
      ],
      "cell_type": "markdown",
      "metadata": {
        "editable": true,
        "deletable": true,
        "id": "b085fd55"
      },
      "id": "b085fd55"
    },
    {
      "execution_count": null,
      "cell_type": "code",
      "source": [
        "%autosave 1"
      ],
      "outputs": [],
      "metadata": {
        "cell_status": {
          "execute_time": {
            "duration": 58497.84814453125,
            "end_time": 1670335380302.746
          }
        },
        "jupyter": {
          "outputs_hidden": false
        },
        "deletable": true,
        "editable": true,
        "id": "f6c6d71e"
      },
      "id": "f6c6d71e"
    },
    {
      "execution_count": null,
      "cell_type": "code",
      "source": [
        "from pyspark.sql import SparkSession\n",
        "import pyspark.sql.functions as f\n",
        "from pyspark.sql.types import *\n",
        "import typing as T\n",
        "import cytoolz.curried as tz\n",
        "from pyspark.sql.functions import col\n",
        "from pyspark.sql import functions as F\n",
        "from pyspark.ml import Pipeline\n",
        "from pyspark.ml.regression import LinearRegression\n",
        "from pyspark.ml.feature import VectorAssembler\n",
        "from pyspark.ml.evaluation import RegressionEvaluator\n",
        "from pyspark.ml.regression import DecisionTreeRegressor\n",
        "from pyspark.ml.regression import RandomForestRegressor\n",
        "\n",
        "from pyspark.ml.tuning import ParamGridBuilder\n",
        "import pyspark\n",
        "\n",
        "\n",
        "import os"
      ],
      "outputs": [
        {
          "output_type": "stream",
          "name": "stdout",
          "text": "Starting Spark application\n"
        },
        {
          "output_type": "display_data",
          "data": {
            "text/plain": "<IPython.core.display.HTML object>",
            "text/html": "<table>\n<tr><th>ID</th><th>YARN Application ID</th><th>Kind</th><th>State</th><th>Spark UI</th><th>Driver log</th><th>Current session?</th></tr><tr><td>3</td><td>application_1670332467339_0010</td><td>pyspark3</td><td>idle</td><td><a target=\"_blank\" href=\"http://hn1-spark9.o4cxacpsqysuxez2ibuiqppnmb.bx.internal.cloudapp.net:8088/proxy/application_1670332467339_0010/\">Link</a></td><td><a target=\"_blank\" href=\"http://wn2-spark9.o4cxacpsqysuxez2ibuiqppnmb.bx.internal.cloudapp.net:30060/node/containerlogs/container_1670332467339_0010_01_000001/livy\">Link</a></td><td>✔</td></tr></table>"
          },
          "metadata": {}
        },
        {
          "output_type": "stream",
          "name": "stdout",
          "text": "SparkSession available as 'spark'.\n"
        }
      ],
      "metadata": {
        "cell_status": {
          "execute_time": {
            "duration": 2285.10791015625,
            "end_time": 1670335426930.277
          }
        },
        "jupyter": {
          "outputs_hidden": false
        },
        "deletable": true,
        "editable": true,
        "id": "429d1e47",
        "outputId": "379ca779-2df6-4324-8a82-8d5e3e67cb6e"
      },
      "id": "429d1e47"
    },
    {
      "execution_count": null,
      "cell_type": "code",
      "source": [
        "your_unique_name = \"daniel_ethan_hw2\" # Use this string to look for your app in the Spark UI\n",
        "if your_unique_name == \"noam_hw2\":\n",
        "    raise Exception(\"Please use your own name\")"
      ],
      "outputs": [],
      "metadata": {
        "cell_status": {
          "execute_time": {
            "duration": 61.114013671875,
            "end_time": 1670335427006.24
          }
        },
        "jupyter": {
          "outputs_hidden": false
        },
        "deletable": true,
        "collapsed": true,
        "editable": true,
        "id": "e721b465"
      },
      "id": "e721b465"
    },
    {
      "execution_count": null,
      "cell_type": "code",
      "source": [
        "spark = SparkSession.builder.appName(your_unique_name).getOrCreate()"
      ],
      "outputs": [],
      "metadata": {
        "cell_status": {
          "execute_time": {
            "duration": 2292.1328125,
            "end_time": 1670335429869.104
          }
        },
        "jupyter": {
          "outputs_hidden": false
        },
        "deletable": true,
        "collapsed": true,
        "editable": true,
        "id": "b80b1419"
      },
      "id": "b80b1419"
    },
    {
      "execution_count": null,
      "cell_type": "code",
      "source": [
        "fname_test_data = \"bids_20K_no_bidfloor.json\"\n",
        "fname = \"2_2.gz\"\n",
        "fname_ref = \"bids_12.json\""
      ],
      "outputs": [],
      "metadata": {
        "cell_status": {
          "execute_time": {
            "duration": 51.756103515625,
            "end_time": 1670336502293.679
          }
        },
        "deletable": true,
        "tags": [],
        "collapsed": true,
        "editable": true,
        "id": "cf861ee6"
      },
      "id": "cf861ee6"
    },
    {
      "execution_count": null,
      "cell_type": "code",
      "source": [
        "from pyspark.sql.types import MapType\n",
        "\n",
        "# At least one file has duplicate key, failing the reading of dataframe when it has to infer the schema.\n",
        "# So I read a known well defined file (fname_ref), learn the schema from it, and then use the schema to read\n",
        "# the full file. When given explicit schema, Spark can handle duplicate keys\n",
        "inferred = spark.read.json(\"wasbs://nc001@dacoursedatastorage.blob.core.windows.net/\" + fname, multiLine=True)\n",
        "#inferred = spark.read.json(fname, multiLine=True)\n",
        "device = inferred.select(\"device\")\n",
        "device.printSchema()\n",
        "bids = spark.read.schema(inferred.schema).json(\"wasbs://nc001@dacoursedatastorage.blob.core.windows.net/\" + fname)\n",
        "\n",
        "\n",
        "test =spark.read.json(\"wasbs://nc001@dacoursedatastorage.blob.core.windows.net/\" +fname_test_data, multiLine=True)\n",
        "ptest = spark.read.schema(test.schema).json(\"wasbs://nc001@dacoursedatastorage.blob.core.windows.net/\" + fname_test_data)\n",
        "\n",
        "# NOTE: the json() command can accept a list of json files. It does not work with *.gz files \n",
        "\n",
        "\n",
        "\n"
      ],
      "outputs": [
        {
          "output_type": "stream",
          "name": "stdout",
          "text": "root\n |-- device: struct (nullable = true)\n |    |-- carrier: string (nullable = true)\n |    |-- connectiontype: long (nullable = true)\n |    |-- devicetype: long (nullable = true)\n |    |-- dnt: long (nullable = true)\n |    |-- dpidmd5: string (nullable = true)\n |    |-- dpidsha1: string (nullable = true)\n |    |-- geo: struct (nullable = true)\n |    |    |-- city: string (nullable = true)\n |    |    |-- country: string (nullable = true)\n |    |    |-- lat: double (nullable = true)\n |    |    |-- lon: double (nullable = true)\n |    |    |-- region: string (nullable = true)\n |    |    |-- type: long (nullable = true)\n |    |    |-- zip: string (nullable = true)\n |    |-- ifa: string (nullable = true)\n |    |-- ip: string (nullable = true)\n |    |-- language: string (nullable = true)\n |    |-- make: string (nullable = true)\n |    |-- model: string (nullable = true)\n |    |-- os: string (nullable = true)\n |    |-- osv: string (nullable = true)\n |    |-- ua: string (nullable = true)"
        }
      ],
      "metadata": {
        "cell_status": {
          "execute_time": {
            "duration": 11338.89404296875,
            "end_time": 1670336515974.745
          }
        },
        "jupyter": {
          "outputs_hidden": false
        },
        "editable": true,
        "outputId": "0a060539-c3f6-49b7-c101-161fd96fb478",
        "deletable": true,
        "colab": {
          "base_uri": "https://localhost:8080/"
        },
        "id": "3f10171c"
      },
      "id": "3f10171c"
    },
    {
      "source": [
        "# Question 1 - Flattening the data"
      ],
      "cell_type": "markdown",
      "metadata": {
        "editable": true,
        "deletable": true,
        "id": "1bbcce51-9bdf-45b7-89b0-934bcb3b3551"
      },
      "id": "1bbcce51-9bdf-45b7-89b0-934bcb3b3551"
    },
    {
      "execution_count": null,
      "cell_type": "code",
      "source": [
        "def schema_to_columns(schema: pyspark.sql.types.StructType) -> T.List[T.List[str]]:\n",
        "    \"\"\"\n",
        "    Produce a flat list of column specs from a possibly nested DataFrame schema\n",
        "    \"\"\"\n",
        "\n",
        "    columns = list()\n",
        "\n",
        "    def helper(schm: pyspark.sql.types.StructType, prefix: list = None):\n",
        "\n",
        "        if prefix is None:\n",
        "            prefix = list()\n",
        "\n",
        "        for item in schm.fields:\n",
        "            if isinstance(item.dataType, pyspark.sql.types.StructType):\n",
        "                helper(item.dataType, prefix + [item.name])\n",
        "            else:\n",
        "                columns.append(prefix + [item.name])\n",
        "\n",
        "    helper(schema)\n",
        "\n",
        "    return columns\n"
      ],
      "outputs": [],
      "metadata": {
        "collapsed": true,
        "editable": true,
        "cell_status": {
          "execute_time": {
            "duration": 43.301025390625,
            "end_time": 1670336557074.322
          }
        },
        "deletable": true,
        "id": "effc4239-798f-4c39-b158-8ae0eba0e973"
      },
      "id": "effc4239-798f-4c39-b158-8ae0eba0e973"
    },
    {
      "execution_count": null,
      "cell_type": "code",
      "source": [
        "def flatten_frame(frame: pyspark.sql.DataFrame) -> pyspark.sql.DataFrame:\n",
        "\n",
        "    aliased_columns = list()\n",
        "\n",
        "    for col_spec in schema_to_columns(frame.schema):\n",
        "        c = tz.get_in(col_spec, frame)\n",
        "        if len(col_spec) == 1:\n",
        "            aliased_columns.append(c)\n",
        "        else:\n",
        "            aliased_columns.append(c.alias(':'.join(col_spec)))\n",
        "\n",
        "    return frame.select(aliased_columns)"
      ],
      "outputs": [],
      "metadata": {
        "collapsed": true,
        "editable": true,
        "cell_status": {
          "execute_time": {
            "duration": 245.715087890625,
            "end_time": 1670336557839.17
          }
        },
        "deletable": true,
        "id": "c3727956-ce48-4826-9084-fff50e4f6270"
      },
      "id": "c3727956-ce48-4826-9084-fff50e4f6270"
    },
    {
      "execution_count": null,
      "cell_type": "code",
      "source": [
        "flatten_data = flatten_frame(device)"
      ],
      "outputs": [],
      "metadata": {
        "collapsed": true,
        "editable": true,
        "cell_status": {
          "execute_time": {
            "duration": 753.68408203125,
            "end_time": 1670336559865.046
          }
        },
        "deletable": true,
        "id": "b8b4037d-d2f5-4d2a-acc0-7b895ae1034c"
      },
      "id": "b8b4037d-d2f5-4d2a-acc0-7b895ae1034c"
    },
    {
      "execution_count": null,
      "cell_type": "code",
      "source": [
        "flatten_data.printSchema()"
      ],
      "outputs": [
        {
          "output_type": "stream",
          "name": "stdout",
          "text": "root\n |-- device:carrier: string (nullable = true)\n |-- device:connectiontype: long (nullable = true)\n |-- device:devicetype: long (nullable = true)\n |-- device:dnt: long (nullable = true)\n |-- device:dpidmd5: string (nullable = true)\n |-- device:dpidsha1: string (nullable = true)\n |-- device:geo:city: string (nullable = true)\n |-- device:geo:country: string (nullable = true)\n |-- device:geo:lat: double (nullable = true)\n |-- device:geo:lon: double (nullable = true)\n |-- device:geo:region: string (nullable = true)\n |-- device:geo:type: long (nullable = true)\n |-- device:geo:zip: string (nullable = true)\n |-- device:ifa: string (nullable = true)\n |-- device:ip: string (nullable = true)\n |-- device:language: string (nullable = true)\n |-- device:make: string (nullable = true)\n |-- device:model: string (nullable = true)\n |-- device:os: string (nullable = true)\n |-- device:osv: string (nullable = true)\n |-- device:ua: string (nullable = true)"
        }
      ],
      "metadata": {
        "outputId": "4d940521-cadd-4529-8c3e-6b88e99a2681",
        "cell_status": {
          "execute_time": {
            "duration": 42.27783203125,
            "end_time": 1670336560686.293
          }
        },
        "deletable": true,
        "editable": true,
        "id": "8edf4109-628a-49fd-8c84-833752bb68ac"
      },
      "id": "8edf4109-628a-49fd-8c84-833752bb68ac"
    },
    {
      "source": [
        "# Question 2 - Analyzing the data"
      ],
      "cell_type": "markdown",
      "metadata": {
        "editable": true,
        "deletable": true,
        "id": "04e3bfaf-2dbc-4de4-bf95-65edee5c10d7"
      },
      "id": "04e3bfaf-2dbc-4de4-bf95-65edee5c10d7"
    },
    {
      "execution_count": null,
      "cell_type": "code",
      "source": [
        "%matplotlib inline\n",
        "import matplotlib.pyplot as plt\n",
        "import numpy as np\n",
        "import pylab as pl\n",
        "import math"
      ],
      "outputs": [],
      "metadata": {
        "editable": true,
        "cell_status": {
          "execute_time": {
            "duration": 6.533935546875,
            "end_time": 1670336589162.971
          }
        },
        "deletable": true,
        "id": "b367045b-8ce5-4286-b834-3a7b89a2b0e3"
      },
      "id": "b367045b-8ce5-4286-b834-3a7b89a2b0e3"
    },
    {
      "execution_count": null,
      "cell_type": "code",
      "source": [
        "df2 = bids.select(bids[\"imp.bidfloor\"][0].alias(\"bidfloor\"), bids[\"location.countrycode\"].alias(\"country\"))\n",
        "df2.show(10)"
      ],
      "outputs": [
        {
          "output_type": "stream",
          "name": "stdout",
          "text": "+-------------------+-------+\n|           bidfloor|country|\n+-------------------+-------+\n|              0.564|    MEX|\n|               1.08|    SAU|\n|            1.13782|    IRN|\n|            0.18828|    USA|\n|0.09813432835820896|    BRA|\n|          1.2737148|    USA|\n|0.18074880000000002|    USA|\n| 0.8709614159999999|    USA|\n|             1.4808|    KWT|\n|             1.3896|    KWT|\n+-------------------+-------+\nonly showing top 10 rows"
        }
      ],
      "metadata": {
        "outputId": "04ed0b8f-083b-41e4-b51a-51003552b816",
        "cell_status": {
          "execute_time": {
            "duration": 2279.5849609375,
            "end_time": 1670336592766.791
          }
        },
        "deletable": true,
        "editable": true,
        "id": "a9d396e0-b60e-4ef4-8a11-9f269dbc3b30"
      },
      "id": "a9d396e0-b60e-4ef4-8a11-9f269dbc3b30"
    },
    {
      "execution_count": null,
      "cell_type": "code",
      "source": [
        "import numpy as np\n",
        "x = np.array(df2.select('bidfloor').collect())"
      ],
      "outputs": [],
      "metadata": {
        "editable": true,
        "cell_status": {
          "execute_time": {
            "duration": 15355.6337890625,
            "end_time": 1670336666941.735
          }
        },
        "deletable": true,
        "id": "d33f6aa3-b964-43cd-b940-686d5ba6b567"
      },
      "id": "d33f6aa3-b964-43cd-b940-686d5ba6b567"
    },
    {
      "execution_count": null,
      "cell_type": "code",
      "source": [
        "vals = []\n",
        "for val in x:\n",
        "    if val[0] != None:\n",
        "        vals.append(val[0])\n",
        "vals = np.array(vals)"
      ],
      "outputs": [],
      "metadata": {
        "editable": true,
        "cell_status": {
          "execute_time": {
            "duration": 265.5810546875,
            "end_time": 1670336667225.742
          }
        },
        "deletable": true,
        "id": "aadabafb-93c6-4c50-9c88-bf168df900fe"
      },
      "id": "aadabafb-93c6-4c50-9c88-bf168df900fe"
    },
    {
      "execution_count": null,
      "cell_type": "code",
      "source": [
        "counts, bins = np.histogram(vals)\n",
        "plt.hist(bins[:-1], bins, weights=counts,density=True,log=True,color='b')\n",
        "plt.title(\"Bidfloor Frequency\")\n",
        "plt.xlabel(\"Probabilities\")\n",
        "plt.ylabel(\"Bidfloor\")\n",
        "plt.show()"
      ],
      "outputs": [
        {
          "output_type": "display_data",
          "data": {
            "application/vnd.jupyter.widget-view+json": {
              "model_id": "0e79bca013d64855a473f385fa008645",
              "version_minor": 0,
              "version_major": 2
            },
            "text/plain": "HTML(value=u'<img src=\"data:image/png;base64,iVBORw0KGgoAAAANSUhEUgAAAkIAAAHFCAYAAAAe+pb9AAAAOXRFWHRTb2Z0d2FyZ…"
          },
          "metadata": {}
        }
      ],
      "metadata": {
        "outputId": "f0f009cf-6954-4816-cd57-0f20e28afa18",
        "cell_status": {
          "execute_time": {
            "duration": 1275.7158203125,
            "end_time": 1670336670431.422
          }
        },
        "deletable": true,
        "editable": true,
        "id": "df5edb02-7be7-47e1-9569-3b2b368393c9",
        "colab": {
          "referenced_widgets": [
            "0e79bca013d64855a473f385fa008645"
          ]
        }
      },
      "id": "df5edb02-7be7-47e1-9569-3b2b368393c9"
    },
    {
      "execution_count": null,
      "cell_type": "code",
      "source": [
        "plt.boxplot(vals)\n",
        "plt.show()"
      ],
      "outputs": [
        {
          "output_type": "display_data",
          "data": {
            "application/vnd.jupyter.widget-view+json": {
              "model_id": "0ce2dc7829634760a6398c7d2831d6c5",
              "version_minor": 0,
              "version_major": 2
            },
            "text/plain": "HTML(value=u'<img src=\"data:image/png;base64,iVBORw0KGgoAAAANSUhEUgAAAigAAAGdCAYAAAA44ojeAAAAOXRFWHRTb2Z0d2FyZ…"
          },
          "metadata": {}
        }
      ],
      "metadata": {
        "outputId": "7751ceea-879a-4622-8c5b-81c9f0e176d8",
        "cell_status": {
          "execute_time": {
            "duration": 252.714111328125,
            "end_time": 1670336681609.697
          }
        },
        "deletable": true,
        "editable": true,
        "id": "c4411573-4da4-421b-9750-a8ab4d3461a1",
        "colab": {
          "referenced_widgets": [
            "0ce2dc7829634760a6398c7d2831d6c5"
          ]
        }
      },
      "id": "c4411573-4da4-421b-9750-a8ab4d3461a1"
    },
    {
      "execution_count": null,
      "cell_type": "code",
      "source": [
        "country_frequency=df2.groupBy(\"country\").count().filter(\"`count` >= 10\").sort(col(\"count\").desc())"
      ],
      "outputs": [],
      "metadata": {
        "collapsed": true,
        "editable": true,
        "cell_status": {
          "execute_time": {
            "duration": 757.48388671875,
            "end_time": 1670336684903.976
          }
        },
        "deletable": true,
        "id": "105f08f4-ed7b-4c91-8625-b936666ccf20"
      },
      "id": "105f08f4-ed7b-4c91-8625-b936666ccf20"
    },
    {
      "execution_count": null,
      "cell_type": "code",
      "source": [
        "most_commun_country = country_frequency.select('country').collect()"
      ],
      "outputs": [],
      "metadata": {
        "collapsed": true,
        "editable": true,
        "cell_status": {
          "execute_time": {
            "duration": 17377.039794921875,
            "end_time": 1670336703553.784
          }
        },
        "deletable": true,
        "id": "7182e6ae-b1f8-4be7-a59c-7653eeab8b79"
      },
      "id": "7182e6ae-b1f8-4be7-a59c-7653eeab8b79"
    },
    {
      "execution_count": null,
      "cell_type": "code",
      "source": [
        "most_country_1=most_commun_country[0][0]\n",
        "most_country_2=most_commun_country[1][0]\n",
        "most_country_3=most_commun_country[2][0]\n",
        "bids_floors_for_3cc= []"
      ],
      "outputs": [],
      "metadata": {
        "collapsed": true,
        "editable": true,
        "cell_status": {
          "execute_time": {
            "duration": 38.075927734375,
            "end_time": 1670336721447.804
          }
        },
        "deletable": true,
        "id": "3034917d-d236-4367-9a06-dec413d799eb"
      },
      "id": "3034917d-d236-4367-9a06-dec413d799eb"
    },
    {
      "execution_count": null,
      "cell_type": "code",
      "source": [
        "for i in range(3):\n",
        "    bids_floors_for_3cc.append((df2.select(df2['bidfloor'].alias('bidfloor for '+str(most_commun_country[i][0]))).where(col('country')==most_commun_country[i][0])))"
      ],
      "outputs": [],
      "metadata": {
        "collapsed": true,
        "editable": true,
        "cell_status": {
          "execute_time": {
            "duration": 260.34912109375,
            "end_time": 1670336723730.146
          }
        },
        "deletable": true,
        "id": "46964086-8528-4da5-a98c-d7e1cc3a6cde"
      },
      "id": "46964086-8528-4da5-a98c-d7e1cc3a6cde"
    },
    {
      "execution_count": null,
      "cell_type": "code",
      "source": [
        "#fig,ax = plt.subplots(1,3)\n",
        "for i, bd in enumerate(bids_floors_for_3cc):\n",
        "    x =np.array(bd.collect())\n",
        "    vals = []\n",
        "    for val in x:\n",
        "        if val[0] != None:\n",
        "            vals.append(val[0])\n",
        "    vals = np.array(vals)\n",
        "    counts, bins = np.histogram(vals)\n",
        "    plt.hist(bins[:-1], bins, weights=counts,density=True,log=True)\n",
        "    plt.title(\"Bidfloor Frequency\"+str(bd.columns[0]))\n",
        "\n",
        "    #plt.set_subtitle(+str(bd.columns[0]))\n",
        "    plt.ylabel(\"Probabilities\")\n",
        "    plt.xlabel(\"bidfloor\")\n",
        "    plt.show()\n"
      ],
      "outputs": [],
      "metadata": {
        "cell_status": {
          "execute_time": {
            "duration": 35654.800048828125,
            "end_time": 1670336764747.475
          }
        },
        "deletable": true,
        "editable": true,
        "id": "90166fd1-d770-44d1-a889-f8a76d7a5524"
      },
      "id": "90166fd1-d770-44d1-a889-f8a76d7a5524"
    },
    {
      "source": [
        "# Question 3 – Feature selection"
      ],
      "cell_type": "markdown",
      "metadata": {
        "editable": true,
        "deletable": true,
        "id": "ddcf217d-8dd5-4496-b55a-6863cee80dc5"
      },
      "id": "ddcf217d-8dd5-4496-b55a-6863cee80dc5"
    },
    {
      "cell_type": "markdown",
      "source": [
        "Features we selected from the dataset : \n",
        "\n",
        "* bidfloor : double\n",
        "\n",
        "* country code : string \n",
        "\n",
        "    The bidfloor is influenced by the country as we see in the previous question\n",
        "\n",
        "* Device-geo :    \n",
        "  * latitude : double\n",
        "\n",
        "  * longitude : double\n",
        "    \n",
        "    The bidfloor price may be influenced by his  and his geographical position.\n",
        "\n",
        "* Imp :\n",
        "  * h : long\n",
        "\n",
        "  * pos : long\n",
        "\n",
        "  * w : long\n",
        "\n",
        "  * position : long\n",
        "\n",
        "    They represent the format and position of a publicity on the screen, we may suppose that in function of the quality and position of the add, the bidfloor will change.\n",
        "\n",
        "* connection type : long\n",
        "    \n",
        "    The bidfloor price may be influenced by his connection type.\n",
        "  \n",
        "\n",
        "* timestamp : string\n",
        "   \n",
        "    For each bid the timestamp is unique, so it's usefull our predictions."
      ],
      "metadata": {
        "id": "P8f6qVAUlKiB"
      },
      "id": "P8f6qVAUlKiB"
    },
    {
      "cell_type": "markdown",
      "source": [
        "# Question 4 - Creating the model"
      ],
      "metadata": {
        "id": "MNeisgZnxq5a"
      },
      "id": "MNeisgZnxq5a"
    },
    {
      "execution_count": null,
      "cell_type": "code",
      "source": [
        "from pyspark.ml import Pipeline\n",
        "from pyspark.ml.regression import LinearRegression\n",
        "from pyspark.ml.feature import VectorIndexer\n",
        "from pyspark.ml.evaluation import RegressionEvaluator\n",
        "from pyspark.ml.regression import DecisionTreeRegressor"
      ],
      "outputs": [],
      "metadata": {
        "collapsed": true,
        "editable": true,
        "cell_status": {
          "execute_time": {
            "duration": 41.758056640625,
            "end_time": 1670336774947.409
          }
        },
        "deletable": true,
        "id": "97905b73-0f70-47a8-99f1-ccaa88fd1803"
      },
      "id": "97905b73-0f70-47a8-99f1-ccaa88fd1803"
    },
    {
      "execution_count": null,
      "cell_type": "code",
      "source": [
        "from pyspark.ml.feature import StringIndexer, OneHotEncoder\n",
        "from pyspark.sql.functions import to_timestamp\n",
        "\n",
        "def pre_process(data, indexer=False, a=True):\n",
        "    \n",
        "    if indexer == False:\n",
        "        data = data.select(data[\"location.countrycode\"].alias(\"country\"), \n",
        "                       data[\"device.geo.lat\"].alias(\"latitude\"),\n",
        "                       data[\"device.geo.lon\"].alias(\"longitude\"),\n",
        "                       data[\"imp.banner.h\"].alias(\"h\"),\n",
        "                       data[\"imp.banner.pos\"].alias(\"pos\"),\n",
        "                       data[\"imp.banner.w\"].alias(\"w\"),\n",
        "                       data[\"device.connectionType\"].alias(\"ConexionType\"),\n",
        "                       data[\"timestamp\"].alias('timestamp'),\n",
        "                       data[\"imp.position\"].alias('imp_pos'),\n",
        "                       data[\"imp.bidfloor\"].alias('bidfloor'))\n",
        "\n",
        "        data = data.select(F.col('bidfloor')[0].alias('bidfloor'),\n",
        "                                 F.col(\"h\")[0].alias('h'),\n",
        "                                 F.col(\"pos\")[0].alias('pos'),\n",
        "                                 F.col(\"w\")[0].alias('w'),\n",
        "                                F.col('imp_pos')[0].alias('imp_pos'),\n",
        "                                 'latitude',\n",
        "                                 'longitude',\n",
        "                                'ConexionType',\n",
        "                                'timestamp',\n",
        "                            \n",
        "                                'country'\n",
        "                          ).select('*')\n",
        "    else:\n",
        "        data = data.select(data[\"location.countrycode\"].alias(\"country\"), \n",
        "                       data[\"device.geo.lat\"].alias(\"latitude\"),\n",
        "                       data[\"device.geo.lon\"].alias(\"longitude\"),\n",
        "                       data[\"imp.banner.h\"].alias(\"h\"),\n",
        "                       data[\"imp.banner.pos\"].alias(\"pos\"),\n",
        "                       data[\"imp.banner.w\"].alias(\"w\"),\n",
        "                       data[\"device.connectionType\"].alias(\"ConexionType\"),\n",
        "                       data[\"timestamp\"].alias('timestamp'),\n",
        "                       data[\"imp.position\"].alias('imp_pos'))\n",
        "\n",
        "        data = data.select(F.col(\"h\")[0].alias('h'),\n",
        "                             F.col(\"pos\")[0].alias('pos'),\n",
        "                             F.col(\"w\")[0].alias('w'),\n",
        "                             F.col('imp_pos')[0].alias('imp_pos'),\n",
        "                             'latitude',\n",
        "                             'longitude',\n",
        "                            'ConexionType',\n",
        "                            'timestamp',\n",
        "                            'country'\n",
        "                          ).select('*')\n",
        "        \n",
        "    if indexer == False:\n",
        "        data = data.na.drop()\n",
        "    data = data.withColumn(\"datetype_timestamp\",to_timestamp(col(\"timestamp\")))\n",
        "    data = data.withColumn(\"epoch_seconds\", data.datetype_timestamp.cast(\"long\")) \n",
        "    data=data.drop('timestamp')\n",
        "    data =data.drop('datetype_timestamp')\n",
        "    if indexer == False:\n",
        "\n",
        "        indexer_country = StringIndexer(inputCol='country', outputCol='country_id').fit(data)\n",
        "        indexed_df1 = indexer_country.transform(data)\n",
        "        data  = indexed_df1.drop('country')\n",
        "\n",
        "        \"\"\"indexer_ip = StringIndexer(inputCol='ip', outputCol='ip_id').fit(data)\n",
        "        indexed_df2 = indexer_ip.transform(data)\n",
        "        data  = indexed_df2.drop('ip')\"\"\"\n",
        "    else:\n",
        "        indexer_country = indexer\n",
        "        indexer_country.setHandleInvalid(\"keep\")\n",
        "        indexed_df1 = indexer_country.transform(data)\n",
        "        data  = indexed_df1.drop('country')\n",
        "        \n",
        "        \"\"\"indexer_ip = indexer[1]\n",
        "        indexer_ip.setHandleInvalid(\"keep\")\n",
        "\n",
        "        indexed_df2 = indexer_ip.transform(data)\n",
        "        data  = indexed_df2.drop('ip')\"\"\"\n",
        "        \n",
        "    return data,indexer_country#, indexer_ip)"
      ],
      "outputs": [],
      "metadata": {
        "collapsed": true,
        "editable": true,
        "cell_status": {
          "execute_time": {
            "duration": 43.634033203125,
            "end_time": 1670336775820.474
          }
        },
        "deletable": true,
        "id": "57b7b777-60b3-4a30-81d3-0142ed5486ad"
      },
      "id": "57b7b777-60b3-4a30-81d3-0142ed5486ad"
    },
    {
      "execution_count": null,
      "cell_type": "code",
      "source": [
        "dataset, indexers = pre_process(bids)\n",
        "test_preprocess, i = pre_process(ptest,indexers)"
      ],
      "outputs": [],
      "metadata": {
        "collapsed": true,
        "editable": true,
        "cell_status": {
          "execute_time": {
            "duration": 15341.712890625,
            "end_time": 1670336793706.863
          }
        },
        "deletable": true,
        "id": "bb190c87-aa41-42fa-b004-e7e8c5cb1e49"
      },
      "id": "bb190c87-aa41-42fa-b004-e7e8c5cb1e49"
    },
    {
      "execution_count": null,
      "cell_type": "code",
      "source": [
        "features = dataset.drop('bidfloor')\n",
        "assembler = VectorAssembler(inputCols=features.columns, outputCol=\"features\")\n",
        "train_set = assembler.transform(dataset).select(\"features\", \"bidfloor\")\n",
        "test_set = assembler.setHandleInvalid(\"keep\").transform(test_preprocess).select('features')"
      ],
      "outputs": [],
      "metadata": {
        "collapsed": true,
        "editable": true,
        "cell_status": {
          "execute_time": {
            "duration": 250.93701171875,
            "end_time": 1670336798082.789
          }
        },
        "deletable": true,
        "id": "2aad4adf-5e99-416f-a5d1-f2518b31cfed"
      },
      "id": "2aad4adf-5e99-416f-a5d1-f2518b31cfed"
    },
    {
      "execution_count": null,
      "cell_type": "code",
      "source": [
        "featureIndexer = VectorIndexer(inputCol='features', outputCol=\"indexedFeatures\", maxCategories=121,handleInvalid='keep').fit(train_set)"
      ],
      "outputs": [],
      "metadata": {
        "collapsed": true,
        "editable": true,
        "cell_status": {
          "execute_time": {
            "duration": 15342.031005859375,
            "end_time": 1670336815070.431
          }
        },
        "deletable": true,
        "id": "dd6861fc-9c7e-4a96-a34a-5c386238d7a0"
      },
      "id": "dd6861fc-9c7e-4a96-a34a-5c386238d7a0"
    },
    {
      "execution_count": null,
      "cell_type": "code",
      "source": [
        "rdg = RandomForestRegressor(featuresCol=\"indexedFeatures\",labelCol='bidfloor',maxBins=121)\n",
        "pipeline = Pipeline(stages=[featureIndexer, rdg])\n",
        "#test_set =featureIndexer.transform(test_set)\n",
        "\n",
        "model = pipeline.fit(train_set)"
      ],
      "outputs": [],
      "metadata": {
        "collapsed": true,
        "editable": true,
        "cell_status": {
          "execute_time": {
            "duration": 69630.66284179688,
            "end_time": 1670336887895.961
          }
        },
        "deletable": true,
        "id": "58f7d9ce-701b-41d4-be64-0e0c0b0202bb"
      },
      "id": "58f7d9ce-701b-41d4-be64-0e0c0b0202bb"
    },
    {
      "execution_count": null,
      "cell_type": "code",
      "source": [
        "prediction =model.transform(test_set)"
      ],
      "outputs": [],
      "metadata": {
        "collapsed": true,
        "editable": true,
        "cell_status": {
          "execute_time": {
            "duration": 2271.197998046875,
            "end_time": 1670336890182.54
          }
        },
        "deletable": true,
        "id": "6fe6f43e-9d03-45f5-981b-98b20238b053"
      },
      "id": "6fe6f43e-9d03-45f5-981b-98b20238b053"
    },
    {
      "execution_count": null,
      "cell_type": "code",
      "source": [
        "pred = predictions.withColumn(\"y_pred\", col('prediction'))"
      ],
      "outputs": [],
      "metadata": {
        "cell_status": {
          "execute_time": {
            "duration": 58.258056640625,
            "end_time": 1670337247842.097
          }
        },
        "id": "_rs1JkHgGEbn"
      },
      "id": "_rs1JkHgGEbn"
    },
    {
      "execution_count": null,
      "cell_type": "code",
      "source": [
        "final_pred = pred.select(\"y_pred\")"
      ],
      "outputs": [],
      "metadata": {
        "cell_status": {
          "execute_time": {
            "duration": 452.15087890625,
            "end_time": 1670337292382.289
          }
        },
        "id": "MxogK_X4GEbo"
      },
      "id": "MxogK_X4GEbo"
    },
    {
      "execution_count": null,
      "cell_type": "code",
      "source": [
        "final_pred.write.option(\"header\",True).csv(\"q4_931202543_345123624\")"
      ],
      "outputs": [],
      "metadata": {
        "collapsed": true,
        "editable": true,
        "cell_status": {
          "execute_time": {
            "duration": 7300.77490234375,
            "end_time": 1670337305202.222
          }
        },
        "deletable": true,
        "id": "7b0b9a17-d36f-423a-9edd-e280f83d2b99"
      },
      "id": "7b0b9a17-d36f-423a-9edd-e280f83d2b99"
    },
    {
      "source": [
        "# Question 5 – Empirical Experiments"
      ],
      "cell_type": "markdown",
      "metadata": {
        "editable": true,
        "deletable": true,
        "id": "shlf-DCrlr-W"
      },
      "id": "shlf-DCrlr-W"
    },
    {
      "execution_count": null,
      "cell_type": "code",
      "source": [
        "from pyspark.ml.stat import Correlation\n",
        "\n",
        "assembler = VectorAssembler(inputCols=dataset.columns, outputCol=\"corr_features\")\n",
        "df_vector = assembler.transform(dataset).select(\"corr_features\")\n",
        "corr_matrix = Correlation.corr(df_vector, \"corr_features\")"
      ],
      "outputs": [],
      "metadata": {
        "collapsed": true,
        "editable": true,
        "cell_status": {
          "execute_time": {
            "duration": 37444.6240234375,
            "end_time": 1670337358086.043
          }
        },
        "deletable": true,
        "id": "e3a3b0ab-0208-479d-907a-a20e37a444af"
      },
      "id": "e3a3b0ab-0208-479d-907a-a20e37a444af"
    },
    {
      "execution_count": null,
      "cell_type": "code",
      "source": [
        "matrix = corr_matrix.collect()[0][\"pearson({})\".format(\"corr_features\")].values\n",
        "matrix = np.reshape(matrix, (-1, 10))\n",
        "print(matrix)"
      ],
      "outputs": [
        {
          "output_type": "stream",
          "name": "stdout",
          "text": "[[ 1.00000000e+00  1.99727632e-01  3.45655088e-01  3.58814500e-02\n   3.45655088e-01  8.34969205e-02  1.23017507e-01  9.75055668e-02\n   1.99682408e-03  3.33544346e-02]\n [ 1.99727632e-01  1.00000000e+00  3.16253372e-01  3.95564061e-03\n   3.16253372e-01 -6.76726572e-02  1.00347141e-01 -5.44731025e-03\n  -1.13770519e-02  1.51907584e-01]\n [ 3.45655088e-01  3.16253372e-01  1.00000000e+00  5.36801259e-02\n   1.00000000e+00 -4.46761479e-03 -8.42150019e-03  5.54441344e-02\n  -1.43272155e-02  6.41060232e-02]\n [ 3.58814500e-02  3.95564061e-03  5.36801259e-02  1.00000000e+00\n   5.36801259e-02  8.85154269e-04 -3.07608774e-02 -3.32624782e-02\n   8.83941249e-04 -1.86380547e-02]\n [ 3.45655088e-01  3.16253372e-01  1.00000000e+00  5.36801259e-02\n   1.00000000e+00 -4.46761479e-03 -8.42150019e-03  5.54441344e-02\n  -1.43272155e-02  6.41060232e-02]\n [ 8.34969205e-02 -6.76726572e-02 -4.46761479e-03  8.85154269e-04\n  -4.46761479e-03  1.00000000e+00 -1.80342086e-02  2.52663725e-01\n   3.85026316e-03 -1.66672601e-01]\n [ 1.23017507e-01  1.00347141e-01 -8.42150019e-03 -3.07608774e-02\n  -8.42150019e-03 -1.80342086e-02  1.00000000e+00  3.70541502e-01\n   3.22283328e-02  3.15437984e-01]\n [ 9.75055668e-02 -5.44731025e-03  5.54441344e-02 -3.32624782e-02\n   5.54441344e-02  2.52663725e-01  3.70541502e-01  1.00000000e+00\n   4.96950691e-03  1.27426316e-01]\n [ 1.99682408e-03 -1.13770519e-02 -1.43272155e-02  8.83941249e-04\n  -1.43272155e-02  3.85026316e-03  3.22283328e-02  4.96950691e-03\n   1.00000000e+00 -3.93733693e-03]\n [ 3.33544346e-02  1.51907584e-01  6.41060232e-02 -1.86380547e-02\n   6.41060232e-02 -1.66672601e-01  3.15437984e-01  1.27426316e-01\n  -3.93733693e-03  1.00000000e+00]]"
        }
      ],
      "metadata": {
        "outputId": "be396d54-55e5-4af9-b2f5-6252d402113d",
        "cell_status": {
          "execute_time": {
            "duration": 244.85205078125,
            "end_time": 1670337358349.687
          }
        },
        "deletable": true,
        "colab": {
          "base_uri": "https://localhost:8080/"
        },
        "editable": true,
        "id": "5usJmNChl2XZ"
      },
      "id": "5usJmNChl2XZ"
    },
    {
      "execution_count": null,
      "cell_type": "code",
      "source": [
        "#correlation matrix\n",
        "res_mat = []\n",
        "\n",
        "for i in matrix:\n",
        "  ind = np.argpartition(i, -10)\n",
        "  print(ind[np.argsort(i[ind])])\n",
        "  res_mat.append(ind[np.argsort(i[ind])])"
      ],
      "outputs": [
        {
          "output_type": "stream",
          "name": "stdout",
          "text": "[8 9 3 5 7 6 1 2 4 0]\n[5 8 7 3 6 9 0 2 4 1]\n[8 6 5 3 7 9 1 0 2 4]\n[7 6 9 8 5 1 0 2 4 3]\n[8 6 5 3 7 9 1 0 2 4]\n[9 1 6 2 4 3 8 0 7 5]\n[3 5 2 4 8 1 0 9 7 6]\n[3 1 8 2 4 0 9 5 6 7]\n[2 4 1 9 3 0 5 7 6 8]\n[5 3 8 0 2 4 7 1 6 9]"
        }
      ],
      "metadata": {
        "outputId": "01c76adb-b938-483a-cd63-916caac259c3",
        "cell_status": {
          "execute_time": {
            "duration": 36.139892578125,
            "end_time": 1670337390977.988
          }
        },
        "deletable": true,
        "colab": {
          "base_uri": "https://localhost:8080/"
        },
        "editable": true,
        "id": "cWZk9QTrl6y8"
      },
      "id": "cWZk9QTrl6y8"
    },
    {
      "execution_count": null,
      "cell_type": "code",
      "source": [
        "#We get the average position of each feature in the matrix\n",
        "final = {}\n",
        "for i in range(10):\n",
        "  count = 9\n",
        "  for j in range(10):\n",
        "    final[res_mat[i][j]] = final.get(res_mat[i][j], 0) + count\n",
        "    count -= 1\n",
        "for i in range(10):\n",
        "  print(i, \":\", final[i]/10)    "
      ],
      "outputs": [
        {
          "output_type": "stream",
          "name": "stdout",
          "text": "0 : 2.9\n1 : 4.2\n2 : 4.1\n3 : 6.0\n4 : 3.1\n5 : 5.6\n6 : 4.3\n7 : 3.8\n8 : 6.3\n9 : 4.7"
        }
      ],
      "metadata": {
        "outputId": "a1abf3d3-8056-4a16-83b2-01925759430a",
        "cell_status": {
          "execute_time": {
            "duration": 43.73193359375,
            "end_time": 1670337392279.236
          }
        },
        "deletable": true,
        "colab": {
          "base_uri": "https://localhost:8080/"
        },
        "editable": true,
        "id": "DuSIgwIfl-O9"
      },
      "id": "DuSIgwIfl-O9"
    },
    {
      "execution_count": null,
      "cell_type": "code",
      "source": [
        "dataset.select(dataset[4], dataset[7]).show()"
      ],
      "outputs": [
        {
          "output_type": "stream",
          "name": "stdout",
          "text": "+-------+------------+\n|imp_pos|ConexionType|\n+-------+------------+\n|      0|           2|\n|      0|           6|\n|      1|           3|\n|      0|           0|\n|      0|           2|\n|      0|           3|\n|      0|           3|\n|      7|           3|\n|      0|           3|\n|      1|           2|\n|      0|           3|\n|      1|           6|\n|      0|           2|\n|      0|           2|\n|      0|           2|\n|      0|           6|\n|      0|           2|\n|      1|           2|\n|      0|           3|\n|      1|           6|\n+-------+------------+\nonly showing top 20 rows"
        }
      ],
      "metadata": {
        "outputId": "c2f1812e-205b-4b77-92ae-76648b71cd6e",
        "cell_status": {
          "execute_time": {
            "duration": 759.989990234375,
            "end_time": 1670337396309.624
          }
        },
        "deletable": true,
        "colab": {
          "base_uri": "https://localhost:8080/"
        },
        "editable": true,
        "id": "BBSi-rlfmA06"
      },
      "id": "BBSi-rlfmA06"
    },
    {
      "source": [
        "We choose to use the confusion matrix method.\n",
        "\n",
        "We can easily see that the features 4 and 7 are the most significants.\n",
        " \n",
        "The feature 4 corresponds to the imp position and the feature 7 corresponds to the connection type."
      ],
      "cell_type": "markdown",
      "metadata": {
        "editable": true,
        "deletable": true,
        "id": "ozU7rtY8mDss"
      },
      "id": "ozU7rtY8mDss"
    }
  ],
  "nbformat": 4,
  "metadata": {
    "kernelspec": {
      "display_name": "PySpark3",
      "name": "pyspark3kernel",
      "language": ""
    },
    "language_info": {
      "mimetype": "text/x-python",
      "pygments_lexer": "python3",
      "name": "pyspark3",
      "codemirror_mode": {
        "version": 3,
        "name": "python"
      }
    },
    "colab": {
      "provenance": []
    }
  }
}